{
 "cells": [
  {
   "cell_type": "code",
   "execution_count": null,
   "metadata": {},
   "outputs": [],
   "source": [
    "#For Loop"
   ]
  },
  {
   "cell_type": "code",
   "execution_count": 1,
   "metadata": {},
   "outputs": [],
   "source": [
    "bank_customers = ['aaa','bbb','ccc','ddd']"
   ]
  },
  {
   "cell_type": "code",
   "execution_count": 7,
   "metadata": {},
   "outputs": [
    {
     "name": "stdout",
     "output_type": "stream",
     "text": [
      "You are Welcome,  Aaa\n"
     ]
    }
   ],
   "source": [
    "print(\"You are Welcome, \",bank_customers[0].title())"
   ]
  },
  {
   "cell_type": "code",
   "execution_count": 12,
   "metadata": {},
   "outputs": [
    {
     "name": "stdout",
     "output_type": "stream",
     "text": [
      "You are Welcome, Aaa\n",
      "You are Welcome, Bbb\n",
      "You are Welcome, Ccc\n",
      "You are Welcome, Ddd\n"
     ]
    }
   ],
   "source": [
    "for customer in bank_customers:\n",
    "    print(f\"You are Welcome,\",customer.title())"
   ]
  },
  {
   "cell_type": "code",
   "execution_count": 13,
   "metadata": {},
   "outputs": [
    {
     "name": "stdout",
     "output_type": "stream",
     "text": [
      "You are Welcome, Aaa\n",
      "You are Welcome, Bbb\n",
      "You are Welcome, Ccc\n",
      "You are Welcome, Ddd\n",
      "All please take your seats\n"
     ]
    }
   ],
   "source": [
    "for customer in bank_customers:\n",
    "    print(f\"You are Welcome,\",customer.title())\n",
    "    \n",
    "print(f\"All please take your seats\")"
   ]
  }
 ],
 "metadata": {
  "kernelspec": {
   "display_name": "Python 3",
   "language": "python",
   "name": "python3"
  },
  "language_info": {
   "codemirror_mode": {
    "name": "ipython",
    "version": 3
   },
   "file_extension": ".py",
   "mimetype": "text/x-python",
   "name": "python",
   "nbconvert_exporter": "python",
   "pygments_lexer": "ipython3",
   "version": "3.7.4"
  }
 },
 "nbformat": 4,
 "nbformat_minor": 2
}
